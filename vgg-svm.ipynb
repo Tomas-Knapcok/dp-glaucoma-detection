{
 "cells": [
  {
   "cell_type": "code",
   "execution_count": 22,
   "id": "initial_id",
   "metadata": {
    "collapsed": true,
    "ExecuteTime": {
     "end_time": "2024-04-03T16:52:12.109351Z",
     "start_time": "2024-04-03T16:52:12.099377Z"
    }
   },
   "outputs": [],
   "source": [
    "import numpy as np\n",
    "import pandas as pd\n",
    "import matplotlib.pyplot as plt\n",
    "import seaborn as sns\n",
    "import os\n",
    "from sklearn.model_selection import train_test_split\n",
    "from sklearn.svm import SVC\n",
    "from sklearn.ensemble import RandomForestClassifier\n",
    "from sklearn.metrics import classification_report, confusion_matrix, accuracy_score\n",
    "from tensorflow.keras.preprocessing.image import ImageDataGenerator\n",
    "from tensorflow.keras.applications import VGG16\n",
    "from tensorflow.keras.models import Model\n",
    "from tensorflow.keras.layers import Dense, GlobalAveragePooling2D"
   ]
  },
  {
   "cell_type": "code",
   "outputs": [],
   "source": [
    "# Set seed for reproducibility\n",
    "np.random.seed(42)\n",
    "\n",
    "# Load and preprocess data\n",
    "train_dir = \"cropped_roi_images/train\"\n",
    "val_dir = \"cropped_roi_images/val\"\n",
    "test_dir = \"cropped_roi_images/test\"\n",
    "img_size = (224, 224)  # Input image size for VGG16"
   ],
   "metadata": {
    "collapsed": false,
    "ExecuteTime": {
     "end_time": "2024-04-03T16:52:12.124461Z",
     "start_time": "2024-04-03T16:52:12.110349Z"
    }
   },
   "id": "d77bf507109cd682",
   "execution_count": 23
  },
  {
   "cell_type": "code",
   "outputs": [
    {
     "name": "stdout",
     "output_type": "stream",
     "text": [
      "Found 8621 images belonging to 2 classes.\n",
      "Found 5747 images belonging to 2 classes.\n",
      "Found 2874 images belonging to 2 classes.\n"
     ]
    }
   ],
   "source": [
    "# Data augmentation and normalization for training and validation datasets\n",
    "train_datagen = ImageDataGenerator(rescale=1./255,\n",
    "                                   rotation_range=20,\n",
    "                                   width_shift_range=0.2,\n",
    "                                   height_shift_range=0.2,\n",
    "                                   shear_range=0.2,\n",
    "                                   zoom_range=0.2,\n",
    "                                   horizontal_flip=True,\n",
    "                                   fill_mode='nearest')\n",
    "train_generator = train_datagen.flow_from_directory(train_dir,\n",
    "                                                    target_size=img_size,\n",
    "                                                    batch_size=32,\n",
    "                                                    class_mode='binary')\n",
    "\n",
    "val_datagen = ImageDataGenerator(rescale=1./255)\n",
    "val_generator = val_datagen.flow_from_directory(val_dir,\n",
    "                                                target_size=img_size,\n",
    "                                                batch_size=32,\n",
    "                                                class_mode='binary')\n",
    "\n",
    "# Test the model\n",
    "test_datagen = ImageDataGenerator(rescale=1./255)\n",
    "test_generator = test_datagen.flow_from_directory(test_dir,\n",
    "                                                  target_size=img_size,\n",
    "                                                  batch_size=1,\n",
    "                                                  class_mode='binary',\n",
    "                                                  shuffle=False)"
   ],
   "metadata": {
    "collapsed": false,
    "ExecuteTime": {
     "end_time": "2024-04-03T16:52:12.724886Z",
     "start_time": "2024-04-03T16:52:12.125459Z"
    }
   },
   "id": "719caf3ece2e558c",
   "execution_count": 24
  },
  {
   "cell_type": "code",
   "outputs": [],
   "source": [
    "# Load pre-trained VGG16 model without top classification layers\n",
    "base_model = VGG16(weights='imagenet', include_top=False, input_shape=(img_size[0], img_size[1], 3))\n",
    "\n",
    "# Add custom classification layers on top of pre-trained model\n",
    "x = base_model.output\n",
    "x = GlobalAveragePooling2D()(x)\n",
    "predictions = Dense(1, activation='sigmoid')(x)\n",
    "model = Model(inputs=base_model.input, outputs=predictions)\n",
    "\n",
    "# Freeze pre-trained layers\n",
    "for layer in base_model.layers:\n",
    "    layer.trainable = False"
   ],
   "metadata": {
    "collapsed": false,
    "ExecuteTime": {
     "end_time": "2024-04-03T16:52:13.256783Z",
     "start_time": "2024-04-03T16:52:12.725854Z"
    }
   },
   "id": "76f4c9752abdf734",
   "execution_count": 25
  },
  {
   "cell_type": "code",
   "outputs": [
    {
     "name": "stdout",
     "output_type": "stream",
     "text": [
      "Epoch 1/30\n",
      "270/270 [==============================] - 270s 994ms/step - loss: 0.6544 - accuracy: 0.6062 - val_loss: 0.6322 - val_accuracy: 0.6252\n",
      "Epoch 2/30\n",
      "270/270 [==============================] - 246s 912ms/step - loss: 0.6266 - accuracy: 0.6422 - val_loss: 0.6188 - val_accuracy: 0.6438\n",
      "Epoch 3/30\n",
      "270/270 [==============================] - 242s 899ms/step - loss: 0.6151 - accuracy: 0.6578 - val_loss: 0.6051 - val_accuracy: 0.6675\n",
      "Epoch 4/30\n",
      "270/270 [==============================] - 792s 3s/step - loss: 0.6064 - accuracy: 0.6703 - val_loss: 0.5976 - val_accuracy: 0.6722\n",
      "Epoch 5/30\n",
      "270/270 [==============================] - 496s 2s/step - loss: 0.5990 - accuracy: 0.6766 - val_loss: 0.5919 - val_accuracy: 0.6823\n",
      "Epoch 6/30\n",
      "270/270 [==============================] - 495s 2s/step - loss: 0.5929 - accuracy: 0.6802 - val_loss: 0.5840 - val_accuracy: 0.6925\n",
      "Epoch 7/30\n",
      "270/270 [==============================] - 495s 2s/step - loss: 0.5908 - accuracy: 0.6860 - val_loss: 0.5798 - val_accuracy: 0.6938\n",
      "Epoch 8/30\n",
      "270/270 [==============================] - 467s 2s/step - loss: 0.5868 - accuracy: 0.6952 - val_loss: 0.5756 - val_accuracy: 0.7005\n",
      "Epoch 9/30\n",
      "270/270 [==============================] - 450s 2s/step - loss: 0.5845 - accuracy: 0.6982 - val_loss: 0.5725 - val_accuracy: 0.7052\n",
      "Epoch 10/30\n",
      "270/270 [==============================] - 450s 2s/step - loss: 0.5805 - accuracy: 0.6985 - val_loss: 0.5699 - val_accuracy: 0.7059\n",
      "Epoch 11/30\n",
      "270/270 [==============================] - 450s 2s/step - loss: 0.5801 - accuracy: 0.7034 - val_loss: 0.5716 - val_accuracy: 0.7040\n",
      "Epoch 12/30\n",
      "270/270 [==============================] - 450s 2s/step - loss: 0.5771 - accuracy: 0.7034 - val_loss: 0.5644 - val_accuracy: 0.7096\n",
      "Epoch 13/30\n",
      "270/270 [==============================] - 508s 2s/step - loss: 0.5729 - accuracy: 0.7098 - val_loss: 0.5628 - val_accuracy: 0.7073\n",
      "Epoch 14/30\n",
      "270/270 [==============================] - 540s 2s/step - loss: 0.5730 - accuracy: 0.7084 - val_loss: 0.5622 - val_accuracy: 0.7094\n",
      "Epoch 15/30\n",
      "270/270 [==============================] - 529s 2s/step - loss: 0.5696 - accuracy: 0.7112 - val_loss: 0.5585 - val_accuracy: 0.7117\n",
      "Epoch 16/30\n",
      "270/270 [==============================] - 518s 2s/step - loss: 0.5678 - accuracy: 0.7085 - val_loss: 0.5575 - val_accuracy: 0.7129\n",
      "Epoch 17/30\n",
      "270/270 [==============================] - 540s 2s/step - loss: 0.5656 - accuracy: 0.7112 - val_loss: 0.5557 - val_accuracy: 0.7159\n",
      "Epoch 18/30\n",
      "270/270 [==============================] - 538s 2s/step - loss: 0.5669 - accuracy: 0.7127 - val_loss: 0.5532 - val_accuracy: 0.7188\n",
      "Epoch 19/30\n",
      "270/270 [==============================] - 466s 2s/step - loss: 0.5632 - accuracy: 0.7124 - val_loss: 0.5531 - val_accuracy: 0.7228\n",
      "Epoch 20/30\n",
      "270/270 [==============================] - 467s 2s/step - loss: 0.5641 - accuracy: 0.7147 - val_loss: 0.5517 - val_accuracy: 0.7199\n",
      "Epoch 21/30\n",
      "270/270 [==============================] - 466s 2s/step - loss: 0.5618 - accuracy: 0.7123 - val_loss: 0.5507 - val_accuracy: 0.7214\n",
      "Epoch 22/30\n",
      "270/270 [==============================] - 449s 2s/step - loss: 0.5628 - accuracy: 0.7153 - val_loss: 0.5480 - val_accuracy: 0.7230\n",
      "Epoch 23/30\n",
      "270/270 [==============================] - 446s 2s/step - loss: 0.5585 - accuracy: 0.7202 - val_loss: 0.5481 - val_accuracy: 0.7237\n",
      "Epoch 24/30\n",
      "270/270 [==============================] - 454s 2s/step - loss: 0.5590 - accuracy: 0.7181 - val_loss: 0.5472 - val_accuracy: 0.7252\n",
      "Epoch 25/30\n",
      "270/270 [==============================] - 491s 2s/step - loss: 0.5564 - accuracy: 0.7221 - val_loss: 0.5462 - val_accuracy: 0.7254\n",
      "Epoch 26/30\n",
      "270/270 [==============================] - 490s 2s/step - loss: 0.5556 - accuracy: 0.7230 - val_loss: 0.5425 - val_accuracy: 0.7298\n",
      "Epoch 27/30\n",
      "270/270 [==============================] - 490s 2s/step - loss: 0.5554 - accuracy: 0.7169 - val_loss: 0.5409 - val_accuracy: 0.7326\n",
      "Epoch 28/30\n",
      "270/270 [==============================] - 479s 2s/step - loss: 0.5541 - accuracy: 0.7237 - val_loss: 0.5404 - val_accuracy: 0.7315\n",
      "Epoch 29/30\n",
      "270/270 [==============================] - 450s 2s/step - loss: 0.5522 - accuracy: 0.7213 - val_loss: 0.5386 - val_accuracy: 0.7334\n",
      "Epoch 30/30\n",
      "270/270 [==============================] - 476s 2s/step - loss: 0.5516 - accuracy: 0.7180 - val_loss: 0.5400 - val_accuracy: 0.7310\n"
     ]
    }
   ],
   "source": [
    "# Compile the model\n",
    "model.compile(optimizer='adam',\n",
    "              loss='binary_crossentropy',\n",
    "              metrics=['accuracy'])\n",
    "\n",
    "# Train the model\n",
    "history = model.fit(train_generator,\n",
    "                    steps_per_epoch=len(train_generator),\n",
    "                    epochs=30,\n",
    "                    validation_data=val_generator,\n",
    "                    validation_steps=len(val_generator))\n"
   ],
   "metadata": {
    "collapsed": false,
    "ExecuteTime": {
     "end_time": "2024-04-03T20:47:14.168703Z",
     "start_time": "2024-04-03T16:52:13.260772Z"
    }
   },
   "id": "5e4287a178a818a4",
   "execution_count": 26
  },
  {
   "cell_type": "code",
   "outputs": [
    {
     "data": {
      "text/plain": "<Figure size 640x480 with 1 Axes>",
      "image/png": "[encoded data removed]"
     },
     "metadata": {},
     "output_type": "display_data"
    }
   ],
   "source": [
    "# Plot training and validation accuracy\n",
    "plt.plot(history.history['accuracy'], label='train_accuracy')\n",
    "plt.plot(history.history['val_accuracy'], label='val_accuracy')\n",
    "plt.xlabel('Epoch')\n",
    "plt.ylabel('Accuracy')\n",
    "plt.legend()\n",
    "plt.show()"
   ],
   "metadata": {
    "collapsed": false,
    "ExecuteTime": {
     "end_time": "2024-04-03T20:47:14.435240Z",
     "start_time": "2024-04-03T20:47:14.169702Z"
    }
   },
   "id": "33f3edb31c191a",
   "execution_count": 27
  },
  {
   "cell_type": "code",
   "outputs": [
    {
     "name": "stdout",
     "output_type": "stream",
     "text": [
      "2874/2874 [==============================] - 227s 79ms/step\n"
     ]
    }
   ],
   "source": [
    "predictions = model.predict(test_generator)\n",
    "predicted_classes = np.round(predictions).flatten()\n",
    "\n",
    "true_classes = test_generator.classes\n",
    "class_labels = list(test_generator.class_indices.keys())"
   ],
   "metadata": {
    "collapsed": false,
    "ExecuteTime": {
     "end_time": "2024-04-03T20:51:02.907138Z",
     "start_time": "2024-04-03T20:47:14.436237Z"
    }
   },
   "id": "4d65dc0a5d614b18",
   "execution_count": 28
  },
  {
   "cell_type": "code",
   "outputs": [
    {
     "name": "stdout",
     "output_type": "stream",
     "text": [
      "Confusion Matrix:\n",
      "[[1611  143]\n",
      " [ 606  514]]\n",
      "\n",
      "Classification Report:\n",
      "              precision    recall  f1-score   support\n",
      "\n",
      "           0       0.73      0.92      0.81      1754\n",
      "           1       0.78      0.46      0.58      1120\n",
      "\n",
      "    accuracy                           0.74      2874\n",
      "   macro avg       0.75      0.69      0.69      2874\n",
      "weighted avg       0.75      0.74      0.72      2874\n",
      "\n",
      "\n",
      "Accuracy Score: 0.7393876130828114\n"
     ]
    }
   ],
   "source": [
    "# Evaluate model performance\n",
    "print(\"Confusion Matrix:\")\n",
    "print(confusion_matrix(true_classes, predicted_classes))\n",
    "\n",
    "print(\"\\nClassification Report:\")\n",
    "print(classification_report(true_classes, predicted_classes, target_names=class_labels))\n",
    "\n",
    "print(\"\\nAccuracy Score:\", accuracy_score(true_classes, predicted_classes))"
   ],
   "metadata": {
    "collapsed": false,
    "ExecuteTime": {
     "end_time": "2024-04-03T20:51:02.938008Z",
     "start_time": "2024-04-03T20:51:02.908040Z"
    }
   },
   "id": "83b2f89f48e3cded",
   "execution_count": 29
  },
  {
   "cell_type": "code",
   "outputs": [
    {
     "data": {
      "text/plain": "<Figure size 800x600 with 2 Axes>",
      "image/png": "[encoded data removed]"
     },
     "metadata": {},
     "output_type": "display_data"
    }
   ],
   "source": [
    "cm = confusion_matrix(true_classes, predicted_classes)\n",
    "\n",
    "# Plot confusion matrix for SVM classifier\n",
    "plt.figure(figsize=(8, 6))\n",
    "sns.heatmap(cm, annot=True, fmt='d', cmap='Blues', xticklabels=class_labels, yticklabels=class_labels)\n",
    "plt.xlabel('Predicted Label')\n",
    "plt.ylabel('True Label')\n",
    "plt.title('Confusion Matrix')\n",
    "plt.show()"
   ],
   "metadata": {
    "collapsed": false,
    "ExecuteTime": {
     "end_time": "2024-04-03T20:51:03.111602Z",
     "start_time": "2024-04-03T20:51:02.939005Z"
    }
   },
   "id": "a9657b0a67d55007",
   "execution_count": 30
  },
  {
   "cell_type": "code",
   "outputs": [
    {
     "ename": "ValueError",
     "evalue": "No such layer: global_average_pooling2d. Existing layers are: ['input_3', 'block1_conv1', 'block1_conv2', 'block1_pool', 'block2_conv1', 'block2_conv2', 'block2_pool', 'block3_conv1', 'block3_conv2', 'block3_conv3', 'block3_pool', 'block4_conv1', 'block4_conv2', 'block4_conv3', 'block4_pool', 'block5_conv1', 'block5_conv2', 'block5_conv3', 'block5_pool', 'global_average_pooling2d_2', 'dense_2'].",
     "output_type": "error",
     "traceback": [
      "\u001B[1;31m---------------------------------------------------------------------------\u001B[0m",
      "\u001B[1;31mValueError\u001B[0m                                Traceback (most recent call last)",
      "Cell \u001B[1;32mIn[31], line 2\u001B[0m\n\u001B[0;32m      1\u001B[0m \u001B[38;5;66;03m# Feature extraction using pre-trained model\u001B[39;00m\n\u001B[1;32m----> 2\u001B[0m feature_extractor \u001B[38;5;241m=\u001B[39m Model(inputs\u001B[38;5;241m=\u001B[39mmodel\u001B[38;5;241m.\u001B[39minput, outputs\u001B[38;5;241m=\u001B[39m\u001B[43mmodel\u001B[49m\u001B[38;5;241;43m.\u001B[39;49m\u001B[43mget_layer\u001B[49m\u001B[43m(\u001B[49m\u001B[38;5;124;43m'\u001B[39;49m\u001B[38;5;124;43mglobal_average_pooling2d\u001B[39;49m\u001B[38;5;124;43m'\u001B[39;49m\u001B[43m)\u001B[49m\u001B[38;5;241m.\u001B[39moutput)\n\u001B[0;32m      4\u001B[0m train_features \u001B[38;5;241m=\u001B[39m feature_extractor\u001B[38;5;241m.\u001B[39mpredict(train_generator)\n\u001B[0;32m      5\u001B[0m val_features \u001B[38;5;241m=\u001B[39m feature_extractor\u001B[38;5;241m.\u001B[39mpredict(val_generator)\n",
      "File \u001B[1;32m~\\Documents\\xknapcok\\Project\\dp-glaucoma-detection\\venv\\lib\\site-packages\\keras\\engine\\training.py:3275\u001B[0m, in \u001B[0;36mModel.get_layer\u001B[1;34m(self, name, index)\u001B[0m\n\u001B[0;32m   3273\u001B[0m         \u001B[38;5;28;01mif\u001B[39;00m layer\u001B[38;5;241m.\u001B[39mname \u001B[38;5;241m==\u001B[39m name:\n\u001B[0;32m   3274\u001B[0m             \u001B[38;5;28;01mreturn\u001B[39;00m layer\n\u001B[1;32m-> 3275\u001B[0m     \u001B[38;5;28;01mraise\u001B[39;00m \u001B[38;5;167;01mValueError\u001B[39;00m(\n\u001B[0;32m   3276\u001B[0m         \u001B[38;5;124mf\u001B[39m\u001B[38;5;124m\"\u001B[39m\u001B[38;5;124mNo such layer: \u001B[39m\u001B[38;5;132;01m{\u001B[39;00mname\u001B[38;5;132;01m}\u001B[39;00m\u001B[38;5;124m. Existing layers are: \u001B[39m\u001B[38;5;124m\"\u001B[39m\n\u001B[0;32m   3277\u001B[0m         \u001B[38;5;124mf\u001B[39m\u001B[38;5;124m\"\u001B[39m\u001B[38;5;132;01m{\u001B[39;00m\u001B[38;5;28mlist\u001B[39m(layer\u001B[38;5;241m.\u001B[39mname\u001B[38;5;250m \u001B[39m\u001B[38;5;28;01mfor\u001B[39;00m\u001B[38;5;250m \u001B[39mlayer\u001B[38;5;250m \u001B[39m\u001B[38;5;129;01min\u001B[39;00m\u001B[38;5;250m \u001B[39m\u001B[38;5;28mself\u001B[39m\u001B[38;5;241m.\u001B[39mlayers)\u001B[38;5;132;01m}\u001B[39;00m\u001B[38;5;124m.\u001B[39m\u001B[38;5;124m\"\u001B[39m\n\u001B[0;32m   3278\u001B[0m     )\n\u001B[0;32m   3279\u001B[0m \u001B[38;5;28;01mraise\u001B[39;00m \u001B[38;5;167;01mValueError\u001B[39;00m(\n\u001B[0;32m   3280\u001B[0m     \u001B[38;5;124m\"\u001B[39m\u001B[38;5;124mProvide either a layer name or layer index at \u001B[39m\u001B[38;5;124m\"\u001B[39m \u001B[38;5;124m\"\u001B[39m\u001B[38;5;124m`get_layer`.\u001B[39m\u001B[38;5;124m\"\u001B[39m\n\u001B[0;32m   3281\u001B[0m )\n",
      "\u001B[1;31mValueError\u001B[0m: No such layer: global_average_pooling2d. Existing layers are: ['input_3', 'block1_conv1', 'block1_conv2', 'block1_pool', 'block2_conv1', 'block2_conv2', 'block2_pool', 'block3_conv1', 'block3_conv2', 'block3_conv3', 'block3_pool', 'block4_conv1', 'block4_conv2', 'block4_conv3', 'block4_pool', 'block5_conv1', 'block5_conv2', 'block5_conv3', 'block5_pool', 'global_average_pooling2d_2', 'dense_2']."
     ]
    }
   ],
   "source": [
    "# Feature extraction using pre-trained model\n",
    "feature_extractor = Model(inputs=model.input, outputs=model.get_layer('global_average_pooling2d').output)\n",
    "\n",
    "train_features = feature_extractor.predict(train_generator)\n",
    "val_features = feature_extractor.predict(val_generator)"
   ],
   "metadata": {
    "collapsed": false,
    "ExecuteTime": {
     "end_time": "2024-04-03T20:51:03.206349Z",
     "start_time": "2024-04-03T20:51:03.115589Z"
    }
   },
   "id": "16a23dbed5e09d4e",
   "execution_count": 31
  },
  {
   "cell_type": "code",
   "outputs": [],
   "source": [
    "# Train SVM classifier\n",
    "svm_classifier = SVC(kernel='linear')\n",
    "svm_classifier.fit(train_features, train_generator.classes)"
   ],
   "metadata": {
    "collapsed": false,
    "ExecuteTime": {
     "start_time": "2024-04-03T20:51:03.207353Z"
    }
   },
   "id": "78a2ab705f57edfe",
   "execution_count": null
  },
  {
   "cell_type": "code",
   "outputs": [],
   "source": [
    "# Evaluate SVM classifier\n",
    "svm_train_acc = svm_classifier.score(train_features, train_generator.classes)\n",
    "svm_val_acc = svm_classifier.score(val_features, val_generator.classes)\n",
    "\n",
    "print(\"SVM Training Accuracy:\", svm_train_acc)\n",
    "print(\"SVM Validation Accuracy:\", svm_val_acc)"
   ],
   "metadata": {
    "collapsed": false,
    "ExecuteTime": {
     "start_time": "2024-04-03T20:51:03.208332Z"
    }
   },
   "id": "df2094f3b4ff095e",
   "execution_count": null
  },
  {
   "cell_type": "code",
   "outputs": [],
   "source": [
    "# Train Random Forest classifier\n",
    "rf_classifier = RandomForestClassifier(n_estimators=100, random_state=42)\n",
    "rf_classifier.fit(train_features, train_generator.classes)"
   ],
   "metadata": {
    "collapsed": false
   },
   "id": "9bdc8a68c40dbf51",
   "execution_count": null
  },
  {
   "cell_type": "code",
   "outputs": [],
   "source": [
    "# Evaluate Random Forest classifier\n",
    "rf_train_acc = rf_classifier.score(train_features, train_generator.classes)\n",
    "rf_val_acc = rf_classifier.score(val_features, val_generator.classes)\n",
    "\n",
    "print(\"Random Forest Training Accuracy:\", rf_train_acc)\n",
    "print(\"Random Forest Validation Accuracy:\", rf_val_acc)"
   ],
   "metadata": {
    "collapsed": false,
    "ExecuteTime": {
     "start_time": "2024-04-03T20:51:03.209338Z"
    }
   },
   "id": "9e5276018d819a2",
   "execution_count": null
  },
  {
   "cell_type": "code",
   "outputs": [],
   "source": [
    "# Confusion matrix for SVM classifier using test data\n",
    "svm_test_features = feature_extractor.predict(test_generator)\n",
    "svm_test_predictions = svm_classifier.predict(svm_test_features)\n",
    "svm_test_conf_matrix = confusion_matrix(test_generator.classes, svm_test_predictions)\n",
    "\n",
    "# Plot confusion matrix for SVM classifier\n",
    "plt.figure(figsize=(8, 6))\n",
    "sns.heatmap(svm_test_conf_matrix, annot=True, fmt='d', cmap='Blues', xticklabels=class_labels, yticklabels=class_labels)\n",
    "plt.xlabel('Predicted Label')\n",
    "plt.ylabel('True Label')\n",
    "plt.title('Confusion Matrix - SVM Classifier (Test Data)')\n",
    "plt.show()"
   ],
   "metadata": {
    "collapsed": false,
    "ExecuteTime": {
     "start_time": "2024-04-03T20:51:03.210311Z"
    }
   },
   "id": "315dfdbb561e52b9",
   "execution_count": null
  }
 ],
 "metadata": {
  "kernelspec": {
   "display_name": "Python 3",
   "language": "python",
   "name": "python3"
  },
  "language_info": {
   "codemirror_mode": {
    "name": "ipython",
    "version": 2
   },
   "file_extension": ".py",
   "mimetype": "text/x-python",
   "name": "python",
   "nbconvert_exporter": "python",
   "pygments_lexer": "ipython2",
   "version": "2.7.6"
  }
 },
 "nbformat": 4,
 "nbformat_minor": 5
}
