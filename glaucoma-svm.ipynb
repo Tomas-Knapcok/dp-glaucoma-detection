{
 "cells": [
  {
   "cell_type": "code",
   "execution_count": 1,
   "id": "initial_id",
   "metadata": {
    "collapsed": true,
    "ExecuteTime": {
     "end_time": "2024-04-02T18:52:56.927289Z",
     "start_time": "2024-04-02T18:52:52.759155Z"
    }
   },
   "outputs": [],
   "source": [
    "import os\n",
    "import numpy as np\n",
    "from sklearn.model_selection import train_test_split\n",
    "from sklearn.svm import SVC\n",
    "from sklearn.ensemble import RandomForestClassifier\n",
    "from sklearn.metrics import accuracy_score, classification_report\n",
    "from tensorflow.keras.applications import VGG16  # Replace with desired pre-trained model\n",
    "import cv2  # Assuming OpenCV is installed for image loading\n"
   ]
  },
  {
   "cell_type": "code",
   "outputs": [],
   "source": [
    "# Define paths to your train, validation, and test directories\n",
    "train_path = \"assets/dataset/glaucoma/train\"\n",
    "validation_path = \"assets/dataset/glaucoma/val\"\n",
    "test_path = \"assets/dataset/glaucoma/test\"\n",
    "\n",
    "def load_images(path, target_size=(224, 224)):\n",
    "    images = []\n",
    "    labels = []\n",
    "    class_folders = os.listdir(path)  # Get class folders (0, 1)\n",
    "\n",
    "    for class_folder in class_folders:\n",
    "        class_path = os.path.join(path, class_folder)\n",
    "        for filename in os.listdir(class_path):\n",
    "            img = cv2.imread(os.path.join(class_path, filename))\n",
    "            img = cv2.resize(img, target_size)\n",
    "            images.append(img)\n",
    "            # Assuming class label is the folder name (0 or 1)\n",
    "            label = int(class_folder)\n",
    "            labels.append(label)\n",
    "\n",
    "    return np.array(images), np.array(labels)"
   ],
   "metadata": {
    "collapsed": false,
    "ExecuteTime": {
     "end_time": "2024-04-02T18:52:56.943250Z",
     "start_time": "2024-04-02T18:52:56.928291Z"
    }
   },
   "id": "b91848ba1387929f",
   "execution_count": 2
  },
  {
   "cell_type": "code",
   "outputs": [],
   "source": [
    "# Load train, validation, and test data\n",
    "train_images, train_labels = load_images(train_path)\n",
    "validation_images, validation_labels = load_images(validation_path)\n",
    "test_images, test_labels = load_images(test_path)\n",
    "\n",
    "# Preprocess images (normalize, etc.)\n",
    "train_images = train_images.astype(\"float32\") / 255.0\n",
    "validation_images = validation_images.astype(\"float32\") / 255.0\n",
    "test_images = test_images.astype(\"float32\") / 255.0"
   ],
   "metadata": {
    "collapsed": false,
    "ExecuteTime": {
     "end_time": "2024-04-02T18:54:09.912741Z",
     "start_time": "2024-04-02T18:52:56.944216Z"
    }
   },
   "id": "c01cff908719c8e8",
   "execution_count": 3
  },
  {
   "cell_type": "code",
   "outputs": [
    {
     "name": "stdout",
     "output_type": "stream",
     "text": [
      "270/270 [==============================] - 15s 39ms/step\n",
      "180/180 [==============================] - 8s 43ms/step\n",
      "90/90 [==============================] - 4s 49ms/step\n"
     ]
    }
   ],
   "source": [
    "# Feature extraction using pre-trained model\n",
    "# Load the pre-trained model without the final classification layer (bottleneck features)\n",
    "model = VGG16(weights=\"imagenet\", include_top=False, input_shape=(224, 224, 3))\n",
    "\n",
    "# Freeze pre-trained model weights (optional)\n",
    "for layer in model.layers:\n",
    "    layer.trainable = False\n",
    "\n",
    "# Extract features from train, validation, and test images\n",
    "train_features = model.predict(train_images)\n",
    "validation_features = model.predict(validation_images)\n",
    "test_features = model.predict(test_images)\n",
    "\n",
    "# Reshape features (if necessary)\n",
    "train_features = train_features.reshape(train_features.shape[0], -1)\n",
    "validation_features = validation_features.reshape(validation_features.shape[0], -1)\n",
    "test_features = test_features.reshape(test_features.shape[0], -1)"
   ],
   "metadata": {
    "collapsed": false,
    "ExecuteTime": {
     "end_time": "2024-04-02T18:54:43.005329Z",
     "start_time": "2024-04-02T18:54:09.915731Z"
    }
   },
   "id": "c35055470cf52181",
   "execution_count": 4
  },
  {
   "cell_type": "code",
   "outputs": [
    {
     "data": {
      "text/plain": "SVC(kernel='linear')",
      "text/html": "<style>#sk-container-id-1 {color: black;}#sk-container-id-1 pre{padding: 0;}#sk-container-id-1 div.sk-toggleable {background-color: white;}#sk-container-id-1 label.sk-toggleable__label {cursor: pointer;display: block;width: 100%;margin-bottom: 0;padding: 0.3em;box-sizing: border-box;text-align: center;}#sk-container-id-1 label.sk-toggleable__label-arrow:before {content: \"▸\";float: left;margin-right: 0.25em;color: #696969;}#sk-container-id-1 label.sk-toggleable__label-arrow:hover:before {color: black;}#sk-container-id-1 div.sk-estimator:hover label.sk-toggleable__label-arrow:before {color: black;}#sk-container-id-1 div.sk-toggleable__content {max-height: 0;max-width: 0;overflow: hidden;text-align: left;background-color: #f0f8ff;}#sk-container-id-1 div.sk-toggleable__content pre {margin: 0.2em;color: black;border-radius: 0.25em;background-color: #f0f8ff;}#sk-container-id-1 input.sk-toggleable__control:checked~div.sk-toggleable__content {max-height: 200px;max-width: 100%;overflow: auto;}#sk-container-id-1 input.sk-toggleable__control:checked~label.sk-toggleable__label-arrow:before {content: \"▾\";}#sk-container-id-1 div.sk-estimator input.sk-toggleable__control:checked~label.sk-toggleable__label {background-color: #d4ebff;}#sk-container-id-1 div.sk-label input.sk-toggleable__control:checked~label.sk-toggleable__label {background-color: #d4ebff;}#sk-container-id-1 input.sk-hidden--visually {border: 0;clip: rect(1px 1px 1px 1px);clip: rect(1px, 1px, 1px, 1px);height: 1px;margin: -1px;overflow: hidden;padding: 0;position: absolute;width: 1px;}#sk-container-id-1 div.sk-estimator {font-family: monospace;background-color: #f0f8ff;border: 1px dotted black;border-radius: 0.25em;box-sizing: border-box;margin-bottom: 0.5em;}#sk-container-id-1 div.sk-estimator:hover {background-color: #d4ebff;}#sk-container-id-1 div.sk-parallel-item::after {content: \"\";width: 100%;border-bottom: 1px solid gray;flex-grow: 1;}#sk-container-id-1 div.sk-label:hover label.sk-toggleable__label {background-color: #d4ebff;}#sk-container-id-1 div.sk-serial::before {content: \"\";position: absolute;border-left: 1px solid gray;box-sizing: border-box;top: 0;bottom: 0;left: 50%;z-index: 0;}#sk-container-id-1 div.sk-serial {display: flex;flex-direction: column;align-items: center;background-color: white;padding-right: 0.2em;padding-left: 0.2em;position: relative;}#sk-container-id-1 div.sk-item {position: relative;z-index: 1;}#sk-container-id-1 div.sk-parallel {display: flex;align-items: stretch;justify-content: center;background-color: white;position: relative;}#sk-container-id-1 div.sk-item::before, #sk-container-id-1 div.sk-parallel-item::before {content: \"\";position: absolute;border-left: 1px solid gray;box-sizing: border-box;top: 0;bottom: 0;left: 50%;z-index: -1;}#sk-container-id-1 div.sk-parallel-item {display: flex;flex-direction: column;z-index: 1;position: relative;background-color: white;}#sk-container-id-1 div.sk-parallel-item:first-child::after {align-self: flex-end;width: 50%;}#sk-container-id-1 div.sk-parallel-item:last-child::after {align-self: flex-start;width: 50%;}#sk-container-id-1 div.sk-parallel-item:only-child::after {width: 0;}#sk-container-id-1 div.sk-dashed-wrapped {border: 1px dashed gray;margin: 0 0.4em 0.5em 0.4em;box-sizing: border-box;padding-bottom: 0.4em;background-color: white;}#sk-container-id-1 div.sk-label label {font-family: monospace;font-weight: bold;display: inline-block;line-height: 1.2em;}#sk-container-id-1 div.sk-label-container {text-align: center;}#sk-container-id-1 div.sk-container {/* jupyter's `normalize.less` sets `[hidden] { display: none; }` but bootstrap.min.css set `[hidden] { display: none !important; }` so we also need the `!important` here to be able to override the default hidden behavior on the sphinx rendered scikit-learn.org. See: https://github.com/scikit-learn/scikit-learn/issues/21755 */display: inline-block !important;position: relative;}#sk-container-id-1 div.sk-text-repr-fallback {display: none;}</style><div id=\"sk-container-id-1\" class=\"sk-top-container\"><div class=\"sk-text-repr-fallback\"><pre>SVC(kernel=&#x27;linear&#x27;)</pre><b>In a Jupyter environment, please rerun this cell to show the HTML representation or trust the notebook. <br />On GitHub, the HTML representation is unable to render, please try loading this page with nbviewer.org.</b></div><div class=\"sk-container\" hidden><div class=\"sk-item\"><div class=\"sk-estimator sk-toggleable\"><input class=\"sk-toggleable__control sk-hidden--visually\" id=\"sk-estimator-id-1\" type=\"checkbox\" checked><label for=\"sk-estimator-id-1\" class=\"sk-toggleable__label sk-toggleable__label-arrow\">SVC</label><div class=\"sk-toggleable__content\"><pre>SVC(kernel=&#x27;linear&#x27;)</pre></div></div></div></div></div>"
     },
     "execution_count": 5,
     "metadata": {},
     "output_type": "execute_result"
    }
   ],
   "source": [
    "# Train SVM classifier\n",
    "svm_clf = SVC(kernel=\"linear\")  # Adjust kernel parameter as needed\n",
    "svm_clf.fit(train_features, train_labels)"
   ],
   "metadata": {
    "collapsed": false,
    "ExecuteTime": {
     "end_time": "2024-04-02T19:27:04.562890Z",
     "start_time": "2024-04-02T18:54:43.006335Z"
    }
   },
   "id": "b77d8554cb903ee3",
   "execution_count": 5
  },
  {
   "cell_type": "code",
   "outputs": [
    {
     "data": {
      "text/plain": "array([0, 0, 0, ..., 1, 1, 1])"
     },
     "execution_count": 6,
     "metadata": {},
     "output_type": "execute_result"
    }
   ],
   "source": [
    "# Evaluate on validation set\n",
    "svm_predictions = svm_clf.predict(validation_features)\n",
    "svm_predictions"
   ],
   "metadata": {
    "collapsed": false,
    "ExecuteTime": {
     "end_time": "2024-04-02T19:43:54.075903Z",
     "start_time": "2024-04-02T19:27:04.563863Z"
    }
   },
   "id": "adef35b55c1e7fb0",
   "execution_count": 6
  },
  {
   "cell_type": "code",
   "outputs": [
    {
     "data": {
      "text/plain": "0.9970419349225683"
     },
     "execution_count": 7,
     "metadata": {},
     "output_type": "execute_result"
    }
   ],
   "source": [
    "svm_accuracy = accuracy_score(validation_labels, svm_predictions)\n",
    "svm_accuracy"
   ],
   "metadata": {
    "collapsed": false,
    "ExecuteTime": {
     "end_time": "2024-04-02T19:43:54.090838Z",
     "start_time": "2024-04-02T19:43:54.076874Z"
    }
   },
   "id": "74564d4a013bc34b",
   "execution_count": 7
  },
  {
   "cell_type": "code",
   "outputs": [
    {
     "data": {
      "text/plain": "'              precision    recall  f1-score   support\\n\\n           0       1.00      1.00      1.00      3539\\n           1       1.00      1.00      1.00      2208\\n\\n    accuracy                           1.00      5747\\n   macro avg       1.00      1.00      1.00      5747\\nweighted avg       1.00      1.00      1.00      5747\\n'"
     },
     "execution_count": 8,
     "metadata": {},
     "output_type": "execute_result"
    }
   ],
   "source": [
    "svm_report = classification_report(validation_labels, svm_predictions)\n",
    "svm_report"
   ],
   "metadata": {
    "collapsed": false,
    "ExecuteTime": {
     "end_time": "2024-04-02T19:43:54.121755Z",
     "start_time": "2024-04-02T19:43:54.092833Z"
    }
   },
   "id": "509d182b5b93087b",
   "execution_count": 8
  },
  {
   "cell_type": "code",
   "outputs": [
    {
     "name": "stdout",
     "output_type": "stream",
     "text": [
      "SVM Accuracy: 0.9970419349225683\n",
      "SVM Classification Report:\n",
      "               precision    recall  f1-score   support\n",
      "\n",
      "           0       1.00      1.00      1.00      3539\n",
      "           1       1.00      1.00      1.00      2208\n",
      "\n",
      "    accuracy                           1.00      5747\n",
      "   macro avg       1.00      1.00      1.00      5747\n",
      "weighted avg       1.00      1.00      1.00      5747\n"
     ]
    }
   ],
   "source": [
    "print(\"SVM Accuracy:\", svm_accuracy)\n",
    "print(\"SVM Classification Report:\\n\", svm_report)"
   ],
   "metadata": {
    "collapsed": false,
    "ExecuteTime": {
     "end_time": "2024-04-02T19:43:54.137711Z",
     "start_time": "2024-04-02T19:43:54.122751Z"
    }
   },
   "id": "32578db46ed0c344",
   "execution_count": 9
  },
  {
   "cell_type": "code",
   "outputs": [
    {
     "data": {
      "text/plain": "array([0, 0, 0, ..., 1, 1, 1])"
     },
     "execution_count": 10,
     "metadata": {},
     "output_type": "execute_result"
    }
   ],
   "source": [
    "# Test on unseen data\n",
    "test_predictions_svm = svm_clf.predict(test_features)\n",
    "test_predictions_svm"
   ],
   "metadata": {
    "collapsed": false,
    "ExecuteTime": {
     "end_time": "2024-04-02T19:52:19.019977Z",
     "start_time": "2024-04-02T19:43:54.138711Z"
    }
   },
   "id": "c3d5fa5624350f70",
   "execution_count": 10
  },
  {
   "cell_type": "code",
   "outputs": [
    {
     "data": {
      "text/plain": "0.9982602644398052"
     },
     "execution_count": 11,
     "metadata": {},
     "output_type": "execute_result"
    }
   ],
   "source": [
    "test_accuracy_svm = accuracy_score(test_labels, test_predictions_svm)\n",
    "test_accuracy_svm"
   ],
   "metadata": {
    "collapsed": false,
    "ExecuteTime": {
     "end_time": "2024-04-02T19:52:19.036088Z",
     "start_time": "2024-04-02T19:52:19.020946Z"
    }
   },
   "id": "cfe1d929bf17c950",
   "execution_count": 11
  },
  {
   "cell_type": "code",
   "outputs": [
    {
     "data": {
      "text/plain": "'              precision    recall  f1-score   support\\n\\n           0       1.00      1.00      1.00      1754\\n           1       1.00      1.00      1.00      1120\\n\\n    accuracy                           1.00      2874\\n   macro avg       1.00      1.00      1.00      2874\\nweighted avg       1.00      1.00      1.00      2874\\n'"
     },
     "execution_count": 12,
     "metadata": {},
     "output_type": "execute_result"
    }
   ],
   "source": [
    "test_report_svm = classification_report(test_labels, test_predictions_svm)\n",
    "test_report_svm"
   ],
   "metadata": {
    "collapsed": false,
    "ExecuteTime": {
     "end_time": "2024-04-02T19:52:19.052131Z",
     "start_time": "2024-04-02T19:52:19.037089Z"
    }
   },
   "id": "1f5b11b648b4ff8",
   "execution_count": 12
  },
  {
   "cell_type": "code",
   "outputs": [
    {
     "name": "stdout",
     "output_type": "stream",
     "text": [
      "SVM Accuracy: 0.9982602644398052\n",
      "SVM Classification Report:\n",
      "               precision    recall  f1-score   support\n",
      "\n",
      "           0       1.00      1.00      1.00      1754\n",
      "           1       1.00      1.00      1.00      1120\n",
      "\n",
      "    accuracy                           1.00      2874\n",
      "   macro avg       1.00      1.00      1.00      2874\n",
      "weighted avg       1.00      1.00      1.00      2874\n"
     ]
    }
   ],
   "source": [
    "print(\"SVM Accuracy:\", test_accuracy_svm)\n",
    "print(\"SVM Classification Report:\\n\", test_report_svm)"
   ],
   "metadata": {
    "collapsed": false,
    "ExecuteTime": {
     "end_time": "2024-04-02T21:34:40.701234Z",
     "start_time": "2024-04-02T21:34:40.689233Z"
    }
   },
   "id": "3901d5398649afd9",
   "execution_count": 15
  },
  {
   "cell_type": "code",
   "outputs": [
    {
     "data": {
      "text/plain": "array([[1754,    0],\n       [   5, 1115]], dtype=int64)"
     },
     "execution_count": 13,
     "metadata": {},
     "output_type": "execute_result"
    }
   ],
   "source": [
    "from sklearn.metrics import confusion_matrix\n",
    "cm = confusion_matrix(test_labels, test_predictions_svm)\n",
    "cm"
   ],
   "metadata": {
    "collapsed": false,
    "ExecuteTime": {
     "end_time": "2024-04-02T19:52:19.067982Z",
     "start_time": "2024-04-02T19:52:19.053023Z"
    }
   },
   "id": "bbdbe56ab54d4cd1",
   "execution_count": 13
  },
  {
   "cell_type": "code",
   "outputs": [
    {
     "data": {
      "text/plain": "Text(95.72222222222221, 0.5, 'Truth')"
     },
     "execution_count": 14,
     "metadata": {},
     "output_type": "execute_result"
    },
    {
     "data": {
      "text/plain": "<Figure size 1000x700 with 2 Axes>",
      "image/png": "[encoded data removed]"
     },
     "metadata": {},
     "output_type": "display_data"
    }
   ],
   "source": [
    "from matplotlib import pyplot as plt\n",
    "import seaborn as sn\n",
    "\n",
    "plt.figure(figsize = (10,7))\n",
    "sn.heatmap(cm, annot=True)\n",
    "plt.xlabel('Predicted')\n",
    "plt.ylabel('Truth')"
   ],
   "metadata": {
    "collapsed": false,
    "ExecuteTime": {
     "end_time": "2024-04-02T19:52:19.670372Z",
     "start_time": "2024-04-02T19:52:19.068980Z"
    }
   },
   "id": "572ccd52b2d45f40",
   "execution_count": 14
  }
 ],
 "metadata": {
  "kernelspec": {
   "display_name": "Python 3",
   "language": "python",
   "name": "python3"
  },
  "language_info": {
   "codemirror_mode": {
    "name": "ipython",
    "version": 2
   },
   "file_extension": ".py",
   "mimetype": "text/x-python",
   "name": "python",
   "nbconvert_exporter": "python",
   "pygments_lexer": "ipython2",
   "version": "2.7.6"
  }
 },
 "nbformat": 4,
 "nbformat_minor": 5
}
