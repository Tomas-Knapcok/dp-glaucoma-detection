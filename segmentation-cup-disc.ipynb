{
 "cells": [
  {
   "cell_type": "code",
   "outputs": [],
   "source": [
    "import cv2\n",
    "import os\n",
    "import numpy as np\n",
    "from matplotlib import pyplot as plt"
   ],
   "metadata": {
    "collapsed": false,
    "ExecuteTime": {
     "end_time": "2024-03-28T08:55:12.197196Z",
     "start_time": "2024-03-28T08:55:12.186249Z"
    }
   },
   "id": "4f3591c14493d6bd",
   "execution_count": 3
  },
  {
   "cell_type": "code",
   "outputs": [],
   "source": [
    "# https://jdhao.github.io/2017/11/06/resize-image-to-square-with-padding/\n",
    "def resize_and_pad(image, desired_size, PADDING=False):\n",
    "\n",
    "    old_size = image.shape[:2]  # old_size is in (height, width) format\n",
    "\n",
    "    ratio = float(desired_size) / max(old_size)\n",
    "    new_size = tuple([int(x * ratio) for x in old_size])\n",
    "\n",
    "    # new_size should be in (width, height) format\n",
    "\n",
    "    new_image = cv2.resize(image, (new_size[1], new_size[0]))\n",
    "    left, top, right, bottom = [0, 0, 0, 0]\n",
    "    if PADDING:\n",
    "        delta_w = desired_size - new_size[1]\n",
    "        delta_h = desired_size - new_size[0]\n",
    "        top, bottom = delta_h // 2, delta_h - (delta_h // 2)\n",
    "        left, right = delta_w // 2, delta_w - (delta_w // 2)\n",
    "\n",
    "        color = [0, 0, 0]\n",
    "        new_image = cv2.copyMakeBorder(\n",
    "            new_image, top, bottom, left, right, cv2.BORDER_CONSTANT, value=color\n",
    "        )\n",
    "    return new_image, ratio, [left, top, right, bottom]\n",
    "\n",
    "def draw_bbox(image, bbox, class_name=\"\", box_color=(255, 0, 0), thickness=2):\n",
    "    \"\"\"draw a single bounding box on the image\"\"\"\n",
    "    out_image = image.copy()\n",
    "    x_min, y_min, x_max, y_max = (\n",
    "        int(bbox[0]),\n",
    "        int(bbox[1]),\n",
    "        int(bbox[2]),\n",
    "        int(bbox[3]),\n",
    "    )\n",
    "\n",
    "    cv2.rectangle(\n",
    "        out_image,\n",
    "        (x_min, y_min),\n",
    "        (x_max, y_max),\n",
    "        color=box_color,\n",
    "        thickness=thickness,\n",
    "    )\n",
    "\n",
    "    fontScale = 0.35\n",
    "    ((text_width, text_height), _) = cv2.getTextSize(\n",
    "        class_name, cv2.FONT_HERSHEY_SIMPLEX, 1.1 * fontScale, 1\n",
    "    )\n",
    "    cv2.rectangle(\n",
    "        out_image,\n",
    "        (x_min, y_min - int(text_height)),\n",
    "        (x_min + text_width, y_min),\n",
    "        box_color,\n",
    "        -1,\n",
    "    )\n",
    "    cv2.putText(\n",
    "        out_image,\n",
    "        text=class_name,\n",
    "        org=(x_min, y_min - int(0.3 * text_height)),\n",
    "        fontFace=cv2.FONT_HERSHEY_SIMPLEX,\n",
    "        fontScale=fontScale,\n",
    "        color=(255, 255, 255),\n",
    "        lineType=cv2.LINE_AA,\n",
    "    )\n",
    "    return out_image\n",
    "\n",
    "def draw_bbox_form_contour(\n",
    "    image,\n",
    "    contour,\n",
    "    rectangle_color=(0, 255, 0),\n",
    "    rectangle_thickness=5,\n",
    "    contour_color=(255, 0, 0),\n",
    "    contour_thickness=2,\n",
    "):\n",
    "    x, y, w, h = cv2.boundingRect(contour)\n",
    "    output_image = cv2.rectangle(\n",
    "        image.copy(),\n",
    "        (x, y),\n",
    "        (x + w, y + h),\n",
    "        rectangle_color,\n",
    "        rectangle_thickness,\n",
    "    )\n",
    "\n",
    "    cv2.drawContours(output_image, [contour], -1, contour_color, contour_thickness)\n",
    "    return output_image\n",
    "\n",
    "def draw_and_crop_to_bbox(image, contour,  contour_color=(255, 0, 0), contour_thickness=2):\n",
    "    # Get bounding rectangle coordinates\n",
    "    x, y, w, h = cv2.boundingRect(contour)\n",
    "\n",
    "    # Check for valid contour (avoid errors for empty contours)\n",
    "    if w <= 0 or h <= 0:\n",
    "        return None\n",
    "    \n",
    "    original_image = image.copy()\n",
    "\n",
    "    cv2.drawContours(original_image, [contour], -1, contour_color, contour_thickness)\n",
    "    \n",
    "    cropped_image = original_image[y:y + h, x:x + w]\n",
    "    output_image = cropped_image.copy()\n",
    "\n",
    "    # Return the cropped image with (optional) green rectangle\n",
    "    return output_image\n",
    "\n",
    "def display_image(image, window_name, FULL_SCREEN=False):\n",
    "\n",
    "    if FULL_SCREEN:\n",
    "        cv2.namedWindow(window_name, cv2.WND_PROP_FULLSCREEN)\n",
    "        cv2.setWindowProperty(\n",
    "            window_name, cv2.WND_PROP_FULLSCREEN, cv2.WINDOW_FULLSCREEN\n",
    "        )\n",
    "    else:\n",
    "        cv2.namedWindow(window_name)\n",
    "    cv2.imshow(window_name, image)\n",
    "\n",
    "def plt_display_image(image, title=\"\", colormap=\"viridis\", figsize=(15, 15)):\n",
    "    plt.figure(figsize=figsize)\n",
    "    plt.imshow(image, cmap=colormap)\n",
    "    plt.title(title)\n",
    "    plt.xticks([]), plt.yticks([])\n",
    "    plt.show()\n",
    "\n",
    "# https://stackoverflow.com/questions/32609098/how-to-fast-change-image-brightness-with-python-opencv/50757596\n",
    "def change_brightness(image, alpha, beta):\n",
    "    return cv2.addWeighted(\n",
    "        image, alpha, np.zeros(image.shape, image.dtype), 0, beta\n",
    "    )\n",
    "\n",
    "def fix_illumination(image):\n",
    "    hsv = cv2.cvtColor(image, cv2.COLOR_RGB2HSV)\n",
    "    if hsv[..., 2].mean() < 50:\n",
    "        alpha = int(75 / hsv[..., 2].mean())\n",
    "        eq_image = change_brightness(image, alpha, 0)\n",
    "\n",
    "    elif hsv[..., 2].mean() > 125:\n",
    "        alpha = 0.7\n",
    "        eq_image = change_brightness(image, alpha, -25)\n",
    "\n",
    "    else:\n",
    "        eq_image = image.copy()\n",
    "    return eq_image\n",
    "\n",
    "def find_eye_area(image):\n",
    "    image_gray = cv2.cvtColor(image, cv2.COLOR_BGR2GRAY)\n",
    "    _, threshold_image = cv2.threshold(image_gray, 10, 255, cv2.THRESH_BINARY)\n",
    "    kernel = np.ones((10, 10), np.uint8)\n",
    "    threshold_image = cv2.morphologyEx(\n",
    "        threshold_image, cv2.MORPH_OPEN, kernel, iterations=5\n",
    "    )\n",
    "    (r, c) = np.where(threshold_image > 10)\n",
    "\n",
    "    min_row, min_col = np.min(r), np.min(c)\n",
    "    max_row, max_col = np.max(r), np.max(c)\n",
    "\n",
    "    width = max_col - min_col\n",
    "    height = max_row - min_row\n",
    "\n",
    "    if min_row == 0:\n",
    "        height += min_col * 2\n",
    "\n",
    "    eye_area = height * width\n",
    "    return eye_area\n",
    "\n",
    "def crop_eye_area(image, pad_x=0, pad_y=0):\n",
    "    image_gray = cv2.cvtColor(image, cv2.COLOR_BGR2GRAY)\n",
    "    _, threshold_image = cv2.threshold(image_gray, 10, 255, cv2.THRESH_BINARY)\n",
    "    kernel = np.ones((10, 10), np.uint8)\n",
    "    threshold_image = cv2.morphologyEx(\n",
    "        threshold_image, cv2.MORPH_OPEN, kernel, iterations=5\n",
    "    )\n",
    "    (r, c) = np.where(threshold_image > 10)\n",
    "    min_row, min_col = np.min(r), np.min(c)\n",
    "    max_row, max_col = np.max(r), np.max(c)\n",
    "\n",
    "    cropped_image = image.copy()\n",
    "    cropped_image = cropped_image[\n",
    "        min_row + pad_y : max_row - pad_y, min_col + pad_x : max_col - pad_x\n",
    "    ]\n",
    "\n",
    "    return cropped_image"
   ],
   "metadata": {
    "collapsed": false,
    "ExecuteTime": {
     "end_time": "2024-03-28T08:55:12.227116Z",
     "start_time": "2024-03-28T08:55:12.198193Z"
    }
   },
   "id": "e1c95df0516eb8d3",
   "execution_count": 4
  },
  {
   "cell_type": "code",
   "outputs": [],
   "source": [
    "def find_optic_disc_mask(rgb_image, threshold):\n",
    "\n",
    "    image = rgb_image.copy()\n",
    "    blur_image = cv2.GaussianBlur(image,(25,25),0)\n",
    "    red_blur_image = blur_image[:,:,0]\n",
    "\n",
    "    clahe = cv2.createCLAHE(clipLimit=2.0, tileGridSize=(8, 8))\n",
    "    clahe_equalized_image = clahe.apply(red_blur_image)\n",
    "    \n",
    "    ret, thresh_blur = cv2.threshold(clahe_equalized_image, threshold, 255, cv2.THRESH_BINARY)\n",
    "    \n",
    "    kernel = np.ones((5,5), np.uint8)\n",
    "    opening = cv2.morphologyEx(thresh_blur, cv2.MORPH_OPEN, kernel, iterations = 5)\n",
    "\n",
    "    contours, hierarchy = cv2.findContours(opening, cv2.RETR_TREE, cv2.CHAIN_APPROX_NONE)\n",
    "    shapes = []\n",
    "\n",
    "    # out_image = image_rgb.copy()\n",
    "    out_image = np.zeros(rgb_image.shape, dtype=np.uint8)\n",
    "    \n",
    "    for i in range(len(contours)):\n",
    "        hull = cv2.convexHull(contours[i])\n",
    "        area = cv2.contourArea(hull)\n",
    "        x,y,w,h = cv2.boundingRect(hull)\n",
    "        r = min(w,h)/2\n",
    "        ideal_area = np.pi*r*r#*(w/2)*(h/2)\n",
    "\n",
    "        if area/ideal_area >= 0.9:\n",
    "            shapes.append([hull, area])\n",
    "    shapes = sorted(shapes,key=lambda l:l[1], reverse=True)\n",
    "    final_mask = shapes[0]\n",
    "    return final_mask"
   ],
   "metadata": {
    "collapsed": false,
    "ExecuteTime": {
     "end_time": "2024-03-28T08:55:12.243099Z",
     "start_time": "2024-03-28T08:55:12.228113Z"
    }
   },
   "id": "ddd222d6de1f0aa9",
   "execution_count": 5
  },
  {
   "cell_type": "code",
   "outputs": [],
   "source": [
    "def find_ROI(image):\n",
    "    blur_image = cv2.GaussianBlur(image,(25,25),0)\n",
    "    red_blur_image = blur_image[:,:,1]\n",
    "\n",
    "    clahe = cv2.createCLAHE(clipLimit=2.0, tileGridSize=(8, 8))\n",
    "    clahe_equalized_image = clahe.apply(red_blur_image)\n",
    "    delta = 0\n",
    "    for i in range(10):\n",
    "\n",
    "        ret, thresh_blur = cv2.threshold(clahe_equalized_image, 250-delta, 255, cv2.THRESH_BINARY)\n",
    "\n",
    "        kernel = np.ones((10,10), np.uint8)\n",
    "        thresh_blur = cv2.morphologyEx(thresh_blur, cv2.MORPH_DILATE, kernel, iterations = 5)\n",
    "\n",
    "        contours, hierarchy = cv2.findContours(thresh_blur, cv2.RETR_TREE, cv2.CHAIN_APPROX_NONE)\n",
    "        if len(contours) == 0:\n",
    "            delta +=5\n",
    "        else:\n",
    "            break\n",
    "\n",
    "    return contours"
   ],
   "metadata": {
    "collapsed": false,
    "ExecuteTime": {
     "end_time": "2024-03-28T08:55:12.259031Z",
     "start_time": "2024-03-28T08:55:12.245068Z"
    }
   },
   "id": "4413eb51a4b42e33",
   "execution_count": 6
  },
  {
   "cell_type": "code",
   "outputs": [],
   "source": [
    "# https://www.geeksforgeeks.org/python-opencv-find-center-of-contour/\n",
    "def extract_center(contour):\n",
    "    M = cv2.moments(contour)\n",
    "    cx = int(M['m10']/M['m00'])\n",
    "    cy = int(M['m01']/M['m00'])\n",
    "    return cx, cy"
   ],
   "metadata": {
    "collapsed": false,
    "ExecuteTime": {
     "end_time": "2024-03-28T08:55:12.275009Z",
     "start_time": "2024-03-28T08:55:12.260054Z"
    }
   },
   "id": "d262f5e881b12444",
   "execution_count": 7
  },
  {
   "cell_type": "code",
   "outputs": [],
   "source": [
    "def find_optic_disc_from_red_channel(eq_image, roi_x, roi_y, d, eye_area):\n",
    "    delta = 0\n",
    "    is_it_inside = True\n",
    "    final_mask = None\n",
    "    mask = None\n",
    "    threshold = 190 #int(cropped_image[:,:,0].mean())\n",
    "    old_threshold = threshold\n",
    "    delta = 0\n",
    "    for i in range(25):\n",
    "        try:\n",
    "            mask = find_optic_disc_mask(eq_image, threshold)\n",
    "        except:\n",
    "            threshold -= 10\n",
    "            continue\n",
    "        cx, cy = extract_center(mask[0])\n",
    "        if roi_x-d<=cx<=roi_x+d and roi_y-d<=cy<=roi_y+d:\n",
    "            is_it_inside = True\n",
    "            old_threshold = threshold\n",
    "        else:\n",
    "\n",
    "            is_it_inside = False\n",
    "            threshold = old_threshold + np.random.randint(-25,25)\n",
    "            threshold = min(threshold, 254)\n",
    "            threshold = max(threshold, 75)\n",
    "            continue\n",
    "        mask_area =  mask[1]\n",
    "        _, radius = cv2.minEnclosingCircle(mask[0])\n",
    "    #     mask_area = 3.14159 * radius**2\n",
    "        area_ratio = mask_area/eye_area\n",
    "\n",
    "        if 0.014 - delta <= area_ratio <= 0.025 + delta:\n",
    "            final_mask = mask\n",
    "            break\n",
    "        elif area_ratio > 0.025:\n",
    "            threshold_delta = 20 + np.random.randint(-15,15)\n",
    "            threshold += threshold_delta\n",
    "            threshold = min(threshold, 254)\n",
    "\n",
    "        elif  area_ratio < 0.014:\n",
    "            threshold_delta = -20 + np.random.randint(-15,15)\n",
    "            threshold +=  threshold_delta\n",
    "            threshold = max(threshold, 75)\n",
    "        if i> 4 and is_it_inside:\n",
    "            delta += 0.0005\n",
    "    return final_mask"
   ],
   "metadata": {
    "collapsed": false,
    "ExecuteTime": {
     "end_time": "2024-03-28T08:55:12.290205Z",
     "start_time": "2024-03-28T08:55:12.275986Z"
    }
   },
   "id": "55bf499d87f4a9f6",
   "execution_count": 8
  },
  {
   "cell_type": "code",
   "outputs": [],
   "source": [
    "def extract_optic_disc(image_path, outout_dir_path):\n",
    "    \n",
    "    \n",
    "    bgr_image = cv2.imread(image_path)\n",
    "    rgb_image = cv2.cvtColor(bgr_image, cv2.COLOR_BGR2RGB)\n",
    "    \n",
    "    eye_area = find_eye_area(rgb_image)\n",
    "    cropped_image = crop_eye_area(rgb_image)\n",
    "    eq_image = fix_illumination(cropped_image)\n",
    "\n",
    "    \n",
    "    height, width = eq_image.shape[:2]\n",
    "    d = int(0.075*(height+width))//2\n",
    "        \n",
    "    roi_contours = find_ROI(eq_image)\n",
    "\n",
    "    if len(roi_contours)==1:\n",
    "        roi_x, roi_y = extract_center(roi_contours[0])\n",
    "        \n",
    "        final_mask = find_optic_disc_from_red_channel(eq_image, roi_x, roi_y, d, eye_area) \n",
    "\n",
    "        if final_mask:\n",
    "            \n",
    "            image_name = os.path.basename(image_path)\n",
    "            #bbox_image = image_stuff.draw_bbox_form_contour(eq_image, final_mask[0])\n",
    "            bbox_image = draw_and_crop_to_bbox(eq_image, final_mask[0])\n",
    "            roi_image = cv2.cvtColor(bbox_image ,cv2.COLOR_RGB2BGR)\n",
    "            cv2.imshow(\"Image with Bounding Box\", roi_image)\n",
    "            # Wait for a key press to close the window\n",
    "            cv2.waitKey(0)\n",
    "            # Close all windows\n",
    "            cv2.destroyAllWindows()\n",
    "            #cv2.imwrite(os.path.join(outout_dir_path,f\"{image_name[:-4]}_bbox.jpg\"), cv2.cvtColor(bbox_image, cv2.COLOR_RGB2BGR))\n",
    "            #cv2.imwrite(os.path.join(outout_dir_path,f\"{image_name[:-4]}.jpg\"), cv2.cvtColor(eq_image, cv2.COLOR_RGB2BGR))\n",
    "\n",
    "            x,y,w,h = cv2.boundingRect(final_mask[0])\n",
    "            coordinates = [x, y, x+w, y+h]\n",
    "            with open(os.path.join(outout_dir_path, f\"{image_name[:-4]}.txt\"), \"w\") as f:\n",
    "                for coordinate in coordinates:\n",
    "                    f.write(f\"{int(coordinate)}\\n\")"
   ],
   "metadata": {
    "collapsed": false,
    "ExecuteTime": {
     "end_time": "2024-03-28T08:55:12.306101Z",
     "start_time": "2024-03-28T08:55:12.291114Z"
    }
   },
   "id": "de997db4a276072d",
   "execution_count": 9
  },
  {
   "cell_type": "code",
   "outputs": [
    {
     "name": "stdout",
     "output_type": "stream",
     "text": [
      "Total number of images: 134\n"
     ]
    }
   ],
   "source": [
    "dataset_dir_path = \"assets/dataset/ORIGA/ORIGA/Training/glaucoma\"\n",
    "images_path = [os.path.join(dataset_dir_path,f) for f in sorted(os.listdir(f'{dataset_dir_path}'))]\n",
    "print(f\"Total number of images: {len(images_path)}\")"
   ],
   "metadata": {
    "collapsed": false,
    "ExecuteTime": {
     "end_time": "2024-03-28T08:55:12.322055Z",
     "start_time": "2024-03-28T08:55:12.307071Z"
    }
   },
   "id": "e588b0685d529d24",
   "execution_count": 10
  },
  {
   "cell_type": "code",
   "outputs": [],
   "source": [
    "outout_dir_path = \"threshold_output_test\"\n",
    "if not os.path.exists(outout_dir_path):\n",
    "    os.mkdir(outout_dir_path)"
   ],
   "metadata": {
    "collapsed": false,
    "ExecuteTime": {
     "end_time": "2024-03-28T08:55:12.338020Z",
     "start_time": "2024-03-28T08:55:12.323028Z"
    }
   },
   "id": "3afb60e0dc1400be",
   "execution_count": 11
  },
  {
   "cell_type": "code",
   "outputs": [],
   "source": [
    "image = \"assets/dataset/DRISHTI-GS/DRISHTI-GS/Training/glaucoma/drishtiGS_060.png\"\n",
    "extract_optic_disc(image, outout_dir_path)"
   ],
   "metadata": {
    "collapsed": false,
    "ExecuteTime": {
     "end_time": "2024-03-28T09:26:46.700415Z",
     "start_time": "2024-03-28T08:55:12.339013Z"
    }
   },
   "id": "1bd09fcda8e9aee",
   "execution_count": 12
  },
  {
   "cell_type": "markdown",
   "source": [
    "NEW APPROACH"
   ],
   "metadata": {
    "collapsed": false
   },
   "id": "3ad6ded8c7f11133"
  },
  {
   "cell_type": "code",
   "outputs": [],
   "source": [
    "import os\n",
    "import pandas as pd\n",
    "\n",
    "def create_dataframe_from_directory(directory, cvs_file):\n",
    "    # List to store the file paths and labels\n",
    "    data = []\n",
    "\n",
    "    # Iterate over the subdirectories 0 and 1\n",
    "    for label, subdir in enumerate([\"0\", \"1\"]):\n",
    "        # Get the full path of the current subdirectory\n",
    "        subdir_path = os.path.join(directory, subdir)\n",
    "        # Iterate over the files in the subdirectory\n",
    "        for filename in os.listdir(subdir_path):\n",
    "            # Check if the file has a .png extension\n",
    "            if filename.endswith(\".png\"):\n",
    "                # Create the full path of the file\n",
    "                file_path = os.path.join(subdir_path, filename)\n",
    "                # Append the file path and label to the list\n",
    "                data.append((file_path, label))\n",
    "\n",
    "    # Create a DataFrame from the list of file paths and labels\n",
    "    df = pd.DataFrame(data, columns=[\"file_path\", \"label\"])\n",
    "    \n",
    "    # Save the DataFrame to a CSV file\n",
    "    df.to_csv(cvs_file, index=False)\n",
    "    \n",
    "    return df"
   ],
   "metadata": {
    "collapsed": false,
    "ExecuteTime": {
     "end_time": "2024-04-03T16:41:10.301541Z",
     "start_time": "2024-04-03T16:41:10.282568Z"
    }
   },
   "id": "fc36df74b7d38a42",
   "execution_count": 131
  },
  {
   "cell_type": "code",
   "outputs": [],
   "source": [
    "# Example usage:\n",
    "train_dir = \"assets/dataset/glaucoma/train\"\n",
    "val_dir = \"assets/dataset/glaucoma/val\"\n",
    "test_dir = \"assets/dataset/glaucoma/test\"\n",
    "\n",
    "df_train = create_dataframe_from_directory(train_dir, \"train.csv\")\n",
    "df_val = create_dataframe_from_directory(val_dir, \"val.csv\")\n",
    "df_test = create_dataframe_from_directory(test_dir, \"test.csv\")"
   ],
   "metadata": {
    "collapsed": false,
    "ExecuteTime": {
     "end_time": "2024-04-03T16:41:19.787316Z",
     "start_time": "2024-04-03T16:41:19.372279Z"
    }
   },
   "id": "3d0be20519273071",
   "execution_count": 132
  },
  {
   "cell_type": "code",
   "outputs": [
    {
     "data": {
      "text/plain": "label\n0    5293\n1    3328\nName: count, dtype: int64"
     },
     "execution_count": 133,
     "metadata": {},
     "output_type": "execute_result"
    }
   ],
   "source": [
    "df_train.label.value_counts()"
   ],
   "metadata": {
    "collapsed": false,
    "ExecuteTime": {
     "end_time": "2024-04-03T16:41:28.547771Z",
     "start_time": "2024-04-03T16:41:28.537822Z"
    }
   },
   "id": "81d352bd79d5704",
   "execution_count": 133
  },
  {
   "cell_type": "code",
   "outputs": [
    {
     "data": {
      "text/plain": "                                     file_path  label\n0  assets/dataset/glaucoma/train\\0\\BEH-172.png      0\n1  assets/dataset/glaucoma/train\\0\\BEH-174.png      0\n2  assets/dataset/glaucoma/train\\0\\BEH-175.png      0\n3  assets/dataset/glaucoma/train\\0\\BEH-176.png      0\n4  assets/dataset/glaucoma/train\\0\\BEH-178.png      0",
      "text/html": "<div>\n<style scoped>\n    .dataframe tbody tr th:only-of-type {\n        vertical-align: middle;\n    }\n\n    .dataframe tbody tr th {\n        vertical-align: top;\n    }\n\n    .dataframe thead th {\n        text-align: right;\n    }\n</style>\n<table border=\"1\" class=\"dataframe\">\n  <thead>\n    <tr style=\"text-align: right;\">\n      <th></th>\n      <th>file_path</th>\n      <th>label</th>\n    </tr>\n  </thead>\n  <tbody>\n    <tr>\n      <th>0</th>\n      <td>assets/dataset/glaucoma/train\\0\\BEH-172.png</td>\n      <td>0</td>\n    </tr>\n    <tr>\n      <th>1</th>\n      <td>assets/dataset/glaucoma/train\\0\\BEH-174.png</td>\n      <td>0</td>\n    </tr>\n    <tr>\n      <th>2</th>\n      <td>assets/dataset/glaucoma/train\\0\\BEH-175.png</td>\n      <td>0</td>\n    </tr>\n    <tr>\n      <th>3</th>\n      <td>assets/dataset/glaucoma/train\\0\\BEH-176.png</td>\n      <td>0</td>\n    </tr>\n    <tr>\n      <th>4</th>\n      <td>assets/dataset/glaucoma/train\\0\\BEH-178.png</td>\n      <td>0</td>\n    </tr>\n  </tbody>\n</table>\n</div>"
     },
     "execution_count": 134,
     "metadata": {},
     "output_type": "execute_result"
    }
   ],
   "source": [
    "df_train.head()"
   ],
   "metadata": {
    "collapsed": false,
    "ExecuteTime": {
     "end_time": "2024-04-03T16:41:33.362496Z",
     "start_time": "2024-04-03T16:41:33.348108Z"
    }
   },
   "id": "dc6a7875d3a06c3a",
   "execution_count": 134
  },
  {
   "cell_type": "code",
   "outputs": [],
   "source": [
    "import cv2\n",
    "import numpy as np\n",
    "import os\n",
    "import pandas as pd\n",
    "\n",
    "def extract_rois_and_labels(df, output_dir, cropped_dir):\n",
    "    # Create the output directory if it doesn't exist\n",
    "    os.makedirs(output_dir, exist_ok=True)\n",
    "    os.makedirs(cropped_dir, exist_ok=True)\n",
    "    \n",
    "    # Initialize an empty list to store the rows of the DataFrame\n",
    "    roi_rows = []\n",
    "    \n",
    "    for index, row in df.iterrows():\n",
    "        \n",
    "        if row['label'] == 0:\n",
    "            cropped_dir_roi = os.path.join(cropped_dir, '0')\n",
    "            os.makedirs(cropped_dir_roi, exist_ok=True)\n",
    "            output_dir_roi = os.path.join(output_dir, '0')\n",
    "            os.makedirs(output_dir_roi, exist_ok=True)\n",
    "        \n",
    "        elif row['label'] == 1:\n",
    "            cropped_dir_roi = os.path.join(cropped_dir, '1')\n",
    "            os.makedirs(cropped_dir_roi, exist_ok=True)\n",
    "            output_dir_roi = os.path.join(output_dir, '1')\n",
    "            os.makedirs(output_dir_roi, exist_ok=True)\n",
    "            \n",
    "        # Load the image\n",
    "        image = cv2.imread(row['file_path'])\n",
    "        \n",
    "        # Resize the image to 512x512\n",
    "        resized_image = cv2.resize(image, (512, 512))\n",
    "        \n",
    "        # Convert the resized image to grayscale\n",
    "        gray_image = cv2.cvtColor(resized_image, cv2.COLOR_BGR2GRAY)\n",
    "        \n",
    "        # Apply Gaussian blur\n",
    "        blurred_image = cv2.GaussianBlur(gray_image, (65, 65), 0)\n",
    "        \n",
    "        # Find the pixel with the highest intensity value\n",
    "        max_intensity_pixel = np.unravel_index(np.argmax(blurred_image), blurred_image.shape)\n",
    "        \n",
    "        # Define the radius for the circle\n",
    "        radius = 200 // 2\n",
    "        \n",
    "        # Get the x and y coordinates for cropping the image\n",
    "        x = max_intensity_pixel[1] - radius\n",
    "        y = max_intensity_pixel[0] - radius\n",
    "        \n",
    "        # Check if the cropping dimensions are valid\n",
    "        if x < 0:\n",
    "            x = 0\n",
    "        if y < 0:\n",
    "            y = 0\n",
    "        if x + 2*radius > resized_image.shape[1]:\n",
    "            x = resized_image.shape[1] - radius\n",
    "        if y + 2*radius > resized_image.shape[0]:\n",
    "            y = resized_image.shape[0] - radius\n",
    "        \n",
    "        # Crop the image based on the circle's center and radius\n",
    "        cropped_image = resized_image[y:y+2*radius, x:x+2*radius]\n",
    "        \n",
    "        # Split the green channel\n",
    "        green_channel = cropped_image[:, :, 1]\n",
    "        # Apply histogram equalization\n",
    "        clahe_op = cv2.createCLAHE(clipLimit=2)\n",
    "        cropped_image = clahe_op.apply(green_channel)\n",
    "        \n",
    "        resized_cropped_image = cv2.resize(cropped_image, (200, 200))\n",
    "        \n",
    "        cropped_filename = os.path.basename(row['file_path']).split('.')[0] + '_cropped_roi.jpg'\n",
    "        cropped_path = os.path.join(cropped_dir_roi, cropped_filename)\n",
    "        cv2.imwrite(cropped_path, resized_cropped_image)\n",
    "        \n",
    "        # Create a mask for the circle\n",
    "        mask = np.zeros_like(resized_image)\n",
    "        cv2.circle(mask, (x + radius, y + radius), radius, (255, 255, 255), -1)\n",
    "        \n",
    "        # Apply the mask to the resized image\n",
    "        roi_image = cv2.bitwise_and(resized_image, mask)\n",
    "        \n",
    "        # Split the green channel\n",
    "        green_channel = roi_image[:, :, 1]\n",
    "        # Apply histogram equalization\n",
    "        clahe_op = cv2.createCLAHE(clipLimit=2)\n",
    "        roi_image = clahe_op.apply(green_channel)\n",
    "        \n",
    "        # Save the ROI image\n",
    "        roi_filename = os.path.basename(row['file_path']).split('.')[0] + '_roi.jpg'\n",
    "        roi_path = os.path.join(output_dir_roi, roi_filename)\n",
    "        cv2.imwrite(roi_path, roi_image)\n",
    "        \n",
    "        # Append the row to the list\n",
    "        roi_rows.append({'roi_path': roi_path, 'label': row['label']})\n",
    "    \n",
    "    # Create a DataFrame from the list of rows\n",
    "    roi_df = pd.DataFrame(roi_rows)\n",
    "    \n",
    "    return roi_df"
   ],
   "metadata": {
    "collapsed": false,
    "ExecuteTime": {
     "end_time": "2024-04-03T16:46:13.260878Z",
     "start_time": "2024-04-03T16:46:13.237932Z"
    }
   },
   "id": "67db318c1000617b",
   "execution_count": 137
  },
  {
   "cell_type": "code",
   "outputs": [],
   "source": [
    "# Extract ROIs and labels for the training images\n",
    "train_roi_df = extract_rois_and_labels(df_train, 'train_roi_images/train', 'cropped_roi_images/train')\n",
    "test_roi_df = extract_rois_and_labels(df_test, 'train_roi_images/test', 'cropped_roi_images/test')\n",
    "val_roi_df = extract_rois_and_labels(df_val, 'train_roi_images/val', 'cropped_roi_images/val')"
   ],
   "metadata": {
    "collapsed": false,
    "ExecuteTime": {
     "end_time": "2024-04-03T16:49:15.445296Z",
     "start_time": "2024-04-03T16:46:25.342687Z"
    }
   },
   "id": "8e7cf4dcca70c0e9",
   "execution_count": 138
  },
  {
   "cell_type": "code",
   "outputs": [],
   "source": [
    "import matplotlib.pyplot as plt\n",
    "import random\n",
    "\n",
    "# Function to plot a random image from a DataFrame\n",
    "def plot_random_image(df, title):\n",
    "    # Get a random row from the DataFrame-\n",
    "    random_row = df.sample()\n",
    "    \n",
    "    # Load the image\n",
    "    image_path = random_row['roi_path'].values[0]\n",
    "    image = cv2.imread(image_path)\n",
    "    \n",
    "    # Convert the image from BGR to RGB\n",
    "    image = cv2.cvtColor(image, cv2.COLOR_BGR2RGB)\n",
    "    \n",
    "    # Plot the image\n",
    "    plt.imshow(image)\n",
    "    plt.title(title)\n",
    "    plt.axis('off')\n",
    "    plt.show()"
   ],
   "metadata": {
    "collapsed": false,
    "ExecuteTime": {
     "end_time": "2024-04-03T15:02:39.596289Z",
     "start_time": "2024-04-03T15:02:39.581193Z"
    }
   },
   "id": "b6ee1ee0dc73a7b6",
   "execution_count": 56
  },
  {
   "cell_type": "code",
   "outputs": [
    {
     "data": {
      "text/plain": "                           roi_path  label\n0  train_roi_images\\BEH-172_roi.jpg      0\n1  train_roi_images\\BEH-174_roi.jpg      0\n2  train_roi_images\\BEH-175_roi.jpg      0\n3  train_roi_images\\BEH-176_roi.jpg      0\n4  train_roi_images\\BEH-178_roi.jpg      0",
      "text/html": "<div>\n<style scoped>\n    .dataframe tbody tr th:only-of-type {\n        vertical-align: middle;\n    }\n\n    .dataframe tbody tr th {\n        vertical-align: top;\n    }\n\n    .dataframe thead th {\n        text-align: right;\n    }\n</style>\n<table border=\"1\" class=\"dataframe\">\n  <thead>\n    <tr style=\"text-align: right;\">\n      <th></th>\n      <th>roi_path</th>\n      <th>label</th>\n    </tr>\n  </thead>\n  <tbody>\n    <tr>\n      <th>0</th>\n      <td>train_roi_images\\BEH-172_roi.jpg</td>\n      <td>0</td>\n    </tr>\n    <tr>\n      <th>1</th>\n      <td>train_roi_images\\BEH-174_roi.jpg</td>\n      <td>0</td>\n    </tr>\n    <tr>\n      <th>2</th>\n      <td>train_roi_images\\BEH-175_roi.jpg</td>\n      <td>0</td>\n    </tr>\n    <tr>\n      <th>3</th>\n      <td>train_roi_images\\BEH-176_roi.jpg</td>\n      <td>0</td>\n    </tr>\n    <tr>\n      <th>4</th>\n      <td>train_roi_images\\BEH-178_roi.jpg</td>\n      <td>0</td>\n    </tr>\n  </tbody>\n</table>\n</div>"
     },
     "execution_count": 53,
     "metadata": {},
     "output_type": "execute_result"
    }
   ],
   "source": [
    "train_roi_df.head()"
   ],
   "metadata": {
    "collapsed": false,
    "ExecuteTime": {
     "end_time": "2024-04-03T14:57:57.420810Z",
     "start_time": "2024-04-03T14:57:57.407869Z"
    }
   },
   "id": "2028773a06284fdd",
   "execution_count": 53
  },
  {
   "cell_type": "code",
   "outputs": [
    {
     "data": {
      "text/plain": "<Figure size 640x480 with 1 Axes>",
      "image/png": "[encoded data removed]"
     },
     "metadata": {},
     "output_type": "display_data"
    }
   ],
   "source": [
    "# Plot a random image from each DataFrame\n",
    "plot_random_image(train_roi_df, 'Training ROI')"
   ],
   "metadata": {
    "collapsed": false,
    "ExecuteTime": {
     "end_time": "2024-04-03T15:02:42.930038Z",
     "start_time": "2024-04-03T15:02:42.789978Z"
    }
   },
   "id": "79c22a5f6ec3118d",
   "execution_count": 57
  }
 ],
 "metadata": {
  "kernelspec": {
   "display_name": "Python 3",
   "language": "python",
   "name": "python3"
  },
  "language_info": {
   "codemirror_mode": {
    "name": "ipython",
    "version": 2
   },
   "file_extension": ".py",
   "mimetype": "text/x-python",
   "name": "python",
   "nbconvert_exporter": "python",
   "pygments_lexer": "ipython2",
   "version": "2.7.6"
  }
 },
 "nbformat": 4,
 "nbformat_minor": 5
}
