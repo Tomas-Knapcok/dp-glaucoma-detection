{
 "cells": [
  {
   "cell_type": "code",
   "outputs": [],
   "source": [
    "import cv2\n",
    "import os\n",
    "import pandas as pd"
   ],
   "metadata": {
    "collapsed": false,
    "ExecuteTime": {
     "end_time": "2024-05-05T15:12:47.123357Z",
     "start_time": "2024-05-05T15:12:47.092447Z"
    }
   },
   "id": "f3cd47ca267efd27",
   "execution_count": 1
  },
  {
   "cell_type": "code",
   "outputs": [],
   "source": [
    "def create_dataframe_from_directory(directory):\n",
    "    \"\"\"\n",
    "    Vytvorenie Pandas DataFrame obsahujúceho cesty k súborom a štítky z adresárovej štruktúry.\n",
    "\n",
    "    Args:\n",
    "    - (str): Adresár obsahujúci podadresáre so súbormi obrázkov.\n",
    "\n",
    "    Returns::\n",
    "    - df (DataFrame): Pandas DataFrame so stĺpcami \"file_path\" a \"label\".\n",
    "    \"\"\"\n",
    "    \n",
    "    data = []\n",
    "\n",
    "    for label, subdir in enumerate([\"normal\", \"glaucoma\"]):\n",
    "        subdir_path = os.path.join(directory, subdir)\n",
    "        print(subdir_path)\n",
    "        for filename in os.listdir(subdir_path):\n",
    "            if filename.endswith(\".jpg\") or filename.endswith(\".png\"):\n",
    "                file_path = os.path.join(subdir_path, filename)\n",
    "                data.append((file_path, label))\n",
    "\n",
    "    df = pd.DataFrame(data, columns=[\"file_path\", \"label\"])\n",
    "    \n",
    "    return df"
   ],
   "metadata": {
    "collapsed": false,
    "ExecuteTime": {
     "end_time": "2024-05-05T15:17:38.433470Z",
     "start_time": "2024-05-05T15:17:38.413498Z"
    }
   },
   "id": "fb69dd8e55bb6cc4",
   "execution_count": 25
  },
  {
   "cell_type": "code",
   "outputs": [
    {
     "name": "stdout",
     "output_type": "stream",
     "text": [
      "RIM-ONE/RIM-ONE/NOT PARTITIONED\\normal\n",
      "RIM-ONE/RIM-ONE/NOT PARTITIONED\\glaucoma\n"
     ]
    }
   ],
   "source": [
    "# Example usage:\n",
    "dir = \"RIM-ONE/RIM-ONE/NOT PARTITIONED\"\n",
    "\n",
    "df = create_dataframe_from_directory(dir)"
   ],
   "metadata": {
    "collapsed": false,
    "ExecuteTime": {
     "end_time": "2024-05-05T15:17:41.325962Z",
     "start_time": "2024-05-05T15:17:41.311976Z"
    }
   },
   "id": "7e48131eecdc9f25",
   "execution_count": 26
  },
  {
   "cell_type": "code",
   "outputs": [
    {
     "data": {
      "text/plain": "label\n0    313\n1    172\nName: count, dtype: int64"
     },
     "execution_count": 27,
     "metadata": {},
     "output_type": "execute_result"
    }
   ],
   "source": [
    "df.label.value_counts()"
   ],
   "metadata": {
    "collapsed": false,
    "ExecuteTime": {
     "end_time": "2024-05-05T15:17:43.788975Z",
     "start_time": "2024-05-05T15:17:43.774002Z"
    }
   },
   "id": "b897b939a9bec420",
   "execution_count": 27
  },
  {
   "cell_type": "code",
   "outputs": [
    {
     "data": {
      "text/plain": "                                           file_path  label\n0  ACRIMA\\ACRIMA\\NOT PARTITIONED\\normal\\Im001_ACR...      0\n1  ACRIMA\\ACRIMA\\NOT PARTITIONED\\normal\\Im002_ACR...      0\n2  ACRIMA\\ACRIMA\\NOT PARTITIONED\\normal\\Im003_ACR...      0\n3  ACRIMA\\ACRIMA\\NOT PARTITIONED\\normal\\Im004_ACR...      0\n4  ACRIMA\\ACRIMA\\NOT PARTITIONED\\normal\\Im005_ACR...      0",
      "text/html": "<div>\n<style scoped>\n    .dataframe tbody tr th:only-of-type {\n        vertical-align: middle;\n    }\n\n    .dataframe tbody tr th {\n        vertical-align: top;\n    }\n\n    .dataframe thead th {\n        text-align: right;\n    }\n</style>\n<table border=\"1\" class=\"dataframe\">\n  <thead>\n    <tr style=\"text-align: right;\">\n      <th></th>\n      <th>file_path</th>\n      <th>label</th>\n    </tr>\n  </thead>\n  <tbody>\n    <tr>\n      <th>0</th>\n      <td>ACRIMA\\ACRIMA\\NOT PARTITIONED\\normal\\Im001_ACR...</td>\n      <td>0</td>\n    </tr>\n    <tr>\n      <th>1</th>\n      <td>ACRIMA\\ACRIMA\\NOT PARTITIONED\\normal\\Im002_ACR...</td>\n      <td>0</td>\n    </tr>\n    <tr>\n      <th>2</th>\n      <td>ACRIMA\\ACRIMA\\NOT PARTITIONED\\normal\\Im003_ACR...</td>\n      <td>0</td>\n    </tr>\n    <tr>\n      <th>3</th>\n      <td>ACRIMA\\ACRIMA\\NOT PARTITIONED\\normal\\Im004_ACR...</td>\n      <td>0</td>\n    </tr>\n    <tr>\n      <th>4</th>\n      <td>ACRIMA\\ACRIMA\\NOT PARTITIONED\\normal\\Im005_ACR...</td>\n      <td>0</td>\n    </tr>\n  </tbody>\n</table>\n</div>"
     },
     "execution_count": 15,
     "metadata": {},
     "output_type": "execute_result"
    }
   ],
   "source": [
    "df.head()"
   ],
   "metadata": {
    "collapsed": false,
    "ExecuteTime": {
     "end_time": "2024-05-05T15:15:08.431107Z",
     "start_time": "2024-05-05T15:15:08.413130Z"
    }
   },
   "id": "751bb5b499124b65",
   "execution_count": 15
  },
  {
   "cell_type": "code",
   "execution_count": 6,
   "id": "initial_id",
   "metadata": {
    "collapsed": true,
    "ExecuteTime": {
     "end_time": "2024-05-05T15:13:09.989338Z",
     "start_time": "2024-05-05T15:13:09.976346Z"
    }
   },
   "outputs": [],
   "source": [
    "def apply_clahe (df, output_dir, clip_limit=2.0, tile_grid_size=(8, 8)):\n",
    "    \"\"\"\n",
    "    Aplikujte adaptívne vyrovnanie histogramu s obmedzeným kontrastom (CLAHE) na obrázky v DataFrame a uloží vylepšené obrázky do výstupného adresára.\n",
    "\n",
    "    Args:\n",
    "    - df (DataFrame): Pandas DataFrame obsahujúci cesty k súborom a štítky.\n",
    "    - output_dir (str): Adresár na uloženie rozšírených obrázkov.\n",
    "    - clip_limit (float): Prahová hodnota pre obmedzenie kontrastu.\n",
    "    - tile_grid_size (tuple): Veľkosť mriežky na vyrovnávanie histogramu.\n",
    "\n",
    "    Returns:\n",
    "    - roi_df (DataFrame): Pandas DataFrame obsahujúci cesty vylepšených obrázkov a ich zodpovedajúce značky.\n",
    "    \"\"\"\n",
    "\n",
    "    os.makedirs(output_dir, exist_ok=True)    \n",
    "    roi_rows = []\n",
    "    \n",
    "    for index, row in df.iterrows():   \n",
    "        if row['label'] == 0:\n",
    "            output_dir_roi = os.path.join(output_dir, 'normal_onh')\n",
    "            os.makedirs(output_dir_roi, exist_ok=True)  \n",
    "        elif row['label'] == 1:\n",
    "            output_dir_roi = os.path.join(output_dir, 'glaucoma_onh')\n",
    "            os.makedirs(output_dir_roi, exist_ok=True)\n",
    "            \n",
    "        image = cv2.imread(row['file_path'])\n",
    "            \n",
    "        lab = cv2.cvtColor(image, cv2.COLOR_BGR2LAB)    \n",
    "        l, a, b = cv2.split(lab)   \n",
    "        clahe = cv2.createCLAHE(clipLimit=clip_limit, tileGridSize=tile_grid_size)\n",
    "        l_clahe = clahe.apply(l)   \n",
    "        lab_clahe = cv2.merge((l_clahe, a, b))  \n",
    "        clahe_image = cv2.cvtColor(lab_clahe, cv2.COLOR_LAB2RGB)\n",
    "        \n",
    "        roi_filename = os.path.basename(row['file_path']).split('.')[0] + '.jpg'\n",
    "        roi_path = os.path.join(output_dir_roi, roi_filename)\n",
    "        cv2.imwrite(roi_path, cv2.cvtColor(clahe_image, cv2.COLOR_BGR2RGB))\n",
    "        \n",
    "        roi_rows.append({'roi_path': roi_path, 'label': row['label']})\n",
    "    \n",
    "    roi_df = pd.DataFrame(roi_rows)\n",
    "    \n",
    "    return roi_df"
   ]
  },
  {
   "cell_type": "code",
   "outputs": [],
   "source": [
    "clahe_df = apply_clahe(df, 'clahe_images_cropped')"
   ],
   "metadata": {
    "collapsed": false,
    "ExecuteTime": {
     "end_time": "2024-05-05T15:17:56.197991Z",
     "start_time": "2024-05-05T15:17:50.708586Z"
    }
   },
   "id": "2fdee067dc290fcf",
   "execution_count": 28
  }
 ],
 "metadata": {
  "kernelspec": {
   "display_name": "Python 3",
   "language": "python",
   "name": "python3"
  },
  "language_info": {
   "codemirror_mode": {
    "name": "ipython",
    "version": 2
   },
   "file_extension": ".py",
   "mimetype": "text/x-python",
   "name": "python",
   "nbconvert_exporter": "python",
   "pygments_lexer": "ipython2",
   "version": "2.7.6"
  }
 },
 "nbformat": 4,
 "nbformat_minor": 5
}
